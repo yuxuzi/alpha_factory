{
 "cells": [
  {
   "cell_type": "code",
   "execution_count": 2,
   "metadata": {},
   "outputs": [],
   "source": [
    "import pandas as pd\n",
    "import numpy as np"
   ]
  },
  {
   "cell_type": "code",
   "execution_count": 52,
   "metadata": {},
   "outputs": [],
   "source": [
    "import pandas.util.testing as tm\n"
   ]
  },
  {
   "cell_type": "code",
   "execution_count": 53,
   "metadata": {},
   "outputs": [],
   "source": [
    "tm.N, tm.K = 15, 3\n",
    "df=tm.makeTimeDataFrame(freq='M')"
   ]
  },
  {
   "cell_type": "code",
   "execution_count": 4,
   "metadata": {},
   "outputs": [],
   "source": [
    "xx=pd.Series(df.dtypes)"
   ]
  },
  {
   "cell_type": "code",
   "execution_count": 54,
   "metadata": {},
   "outputs": [
    {
     "data": {
      "text/html": [
       "<div>\n",
       "<style scoped>\n",
       "    .dataframe tbody tr th:only-of-type {\n",
       "        vertical-align: middle;\n",
       "    }\n",
       "\n",
       "    .dataframe tbody tr th {\n",
       "        vertical-align: top;\n",
       "    }\n",
       "\n",
       "    .dataframe thead th {\n",
       "        text-align: right;\n",
       "    }\n",
       "</style>\n",
       "<table border=\"1\" class=\"dataframe\">\n",
       "  <thead>\n",
       "    <tr style=\"text-align: right;\">\n",
       "      <th></th>\n",
       "      <th>A</th>\n",
       "      <th>B</th>\n",
       "      <th>C</th>\n",
       "    </tr>\n",
       "  </thead>\n",
       "  <tbody>\n",
       "    <tr>\n",
       "      <th>2000-01-31</th>\n",
       "      <td>0.102997</td>\n",
       "      <td>0.129587</td>\n",
       "      <td>0.568415</td>\n",
       "    </tr>\n",
       "    <tr>\n",
       "      <th>2000-02-29</th>\n",
       "      <td>-0.211281</td>\n",
       "      <td>1.004585</td>\n",
       "      <td>0.135010</td>\n",
       "    </tr>\n",
       "    <tr>\n",
       "      <th>2000-03-31</th>\n",
       "      <td>0.719858</td>\n",
       "      <td>-2.112240</td>\n",
       "      <td>-0.154409</td>\n",
       "    </tr>\n",
       "    <tr>\n",
       "      <th>2000-04-30</th>\n",
       "      <td>1.369998</td>\n",
       "      <td>0.368059</td>\n",
       "      <td>-1.825556</td>\n",
       "    </tr>\n",
       "    <tr>\n",
       "      <th>2000-05-31</th>\n",
       "      <td>0.204936</td>\n",
       "      <td>0.633865</td>\n",
       "      <td>-1.238072</td>\n",
       "    </tr>\n",
       "    <tr>\n",
       "      <th>2000-06-30</th>\n",
       "      <td>-0.884290</td>\n",
       "      <td>-2.232989</td>\n",
       "      <td>1.253531</td>\n",
       "    </tr>\n",
       "    <tr>\n",
       "      <th>2000-07-31</th>\n",
       "      <td>-2.216713</td>\n",
       "      <td>-0.557716</td>\n",
       "      <td>0.105518</td>\n",
       "    </tr>\n",
       "    <tr>\n",
       "      <th>2000-08-31</th>\n",
       "      <td>0.858995</td>\n",
       "      <td>-0.021086</td>\n",
       "      <td>-0.568319</td>\n",
       "    </tr>\n",
       "    <tr>\n",
       "      <th>2000-09-30</th>\n",
       "      <td>1.284679</td>\n",
       "      <td>-1.664506</td>\n",
       "      <td>-1.282648</td>\n",
       "    </tr>\n",
       "    <tr>\n",
       "      <th>2000-10-31</th>\n",
       "      <td>-1.210117</td>\n",
       "      <td>-1.324040</td>\n",
       "      <td>1.253409</td>\n",
       "    </tr>\n",
       "    <tr>\n",
       "      <th>2000-11-30</th>\n",
       "      <td>-0.620172</td>\n",
       "      <td>0.064882</td>\n",
       "      <td>0.063648</td>\n",
       "    </tr>\n",
       "    <tr>\n",
       "      <th>2000-12-31</th>\n",
       "      <td>0.372292</td>\n",
       "      <td>0.713174</td>\n",
       "      <td>1.836597</td>\n",
       "    </tr>\n",
       "    <tr>\n",
       "      <th>2001-01-31</th>\n",
       "      <td>-0.835677</td>\n",
       "      <td>0.499233</td>\n",
       "      <td>-0.960479</td>\n",
       "    </tr>\n",
       "    <tr>\n",
       "      <th>2001-02-28</th>\n",
       "      <td>0.263932</td>\n",
       "      <td>-2.011104</td>\n",
       "      <td>1.063587</td>\n",
       "    </tr>\n",
       "    <tr>\n",
       "      <th>2001-03-31</th>\n",
       "      <td>0.362965</td>\n",
       "      <td>0.254204</td>\n",
       "      <td>1.200897</td>\n",
       "    </tr>\n",
       "  </tbody>\n",
       "</table>\n",
       "</div>"
      ],
      "text/plain": [
       "                   A         B         C\n",
       "2000-01-31  0.102997  0.129587  0.568415\n",
       "2000-02-29 -0.211281  1.004585  0.135010\n",
       "2000-03-31  0.719858 -2.112240 -0.154409\n",
       "2000-04-30  1.369998  0.368059 -1.825556\n",
       "2000-05-31  0.204936  0.633865 -1.238072\n",
       "2000-06-30 -0.884290 -2.232989  1.253531\n",
       "2000-07-31 -2.216713 -0.557716  0.105518\n",
       "2000-08-31  0.858995 -0.021086 -0.568319\n",
       "2000-09-30  1.284679 -1.664506 -1.282648\n",
       "2000-10-31 -1.210117 -1.324040  1.253409\n",
       "2000-11-30 -0.620172  0.064882  0.063648\n",
       "2000-12-31  0.372292  0.713174  1.836597\n",
       "2001-01-31 -0.835677  0.499233 -0.960479\n",
       "2001-02-28  0.263932 -2.011104  1.063587\n",
       "2001-03-31  0.362965  0.254204  1.200897"
      ]
     },
     "execution_count": 54,
     "metadata": {},
     "output_type": "execute_result"
    }
   ],
   "source": [
    "df"
   ]
  },
  {
   "cell_type": "code",
   "execution_count": 61,
   "metadata": {},
   "outputs": [],
   "source": [
    "xx=np.array(df.columns.unique())"
   ]
  },
  {
   "cell_type": "code",
   "execution_count": 64,
   "metadata": {},
   "outputs": [
    {
     "data": {
      "text/plain": [
       "array([0, 1])"
      ]
     },
     "execution_count": 64,
     "metadata": {},
     "output_type": "execute_result"
    }
   ],
   "source": []
  },
  {
   "cell_type": "code",
   "execution_count": null,
   "metadata": {},
   "outputs": [],
   "source": []
  },
  {
   "cell_type": "code",
   "execution_count": null,
   "metadata": {},
   "outputs": [],
   "source": [
    "pd.DataFrame({'a':np.arange(5)})"
   ]
  },
  {
   "cell_type": "code",
   "execution_count": null,
   "metadata": {},
   "outputs": [],
   "source": [
    "df.index.levels[0].unique()"
   ]
  },
  {
   "cell_type": "code",
   "execution_count": 13,
   "metadata": {},
   "outputs": [],
   "source": [
    "df.to_hdf('data',\"/home/yuxuzi/Data/mydataset0\")"
   ]
  },
  {
   "cell_type": "code",
   "execution_count": null,
   "metadata": {},
   "outputs": [],
   "source": [
    "path ='/home/yuxuzi/PythonProjects/Hands-On-Machine-Learning-for-Algorithmic-Trading/data/assets.h5'"
   ]
  },
  {
   "cell_type": "code",
   "execution_count": 19,
   "metadata": {},
   "outputs": [],
   "source": [
    "store1=pd.HDFStore(\"/home/yuxuzi/Data/mydataset0\")"
   ]
  },
  {
   "cell_type": "code",
   "execution_count": 20,
   "metadata": {},
   "outputs": [
    {
     "data": {
      "text/plain": [
       "['/dtypes',\n",
       " '/equities',\n",
       " '/data/close',\n",
       " '/data/open',\n",
       " '/index/dates',\n",
       " '/index/sids']"
      ]
     },
     "execution_count": 20,
     "metadata": {},
     "output_type": "execute_result"
    }
   ],
   "source": [
    "store1.keys()"
   ]
  },
  {
   "cell_type": "code",
   "execution_count": 16,
   "metadata": {},
   "outputs": [],
   "source": []
  },
  {
   "cell_type": "code",
   "execution_count": 11,
   "metadata": {},
   "outputs": [
    {
     "data": {
      "text/plain": [
       "0    2018-03-12\n",
       "1    2018-03-13\n",
       "2    2018-03-14\n",
       "3    2018-03-15\n",
       "4    2018-03-16\n",
       "5    2018-03-19\n",
       "6    2018-03-20\n",
       "7    2018-03-21\n",
       "8    2018-03-22\n",
       "9    2018-03-23\n",
       "10   2018-03-26\n",
       "11   2018-03-27\n",
       "dtype: datetime64[ns]"
      ]
     },
     "execution_count": 11,
     "metadata": {},
     "output_type": "execute_result"
    }
   ],
   "source": [
    "store1.close()"
   ]
  },
  {
   "cell_type": "code",
   "execution_count": 21,
   "metadata": {},
   "outputs": [],
   "source": [
    "store2=pd.HDFStore(\"/home/yuxuzi/Data/mydadaset0\")"
   ]
  },
  {
   "cell_type": "code",
   "execution_count": 23,
   "metadata": {},
   "outputs": [
    {
     "data": {
      "text/plain": [
       "['/dtypes',\n",
       " '/data/close',\n",
       " '/data/open',\n",
       " '/index/dates',\n",
       " '/index/sids',\n",
       " '/index/symbols',\n",
       " '/lifetime/end_dates',\n",
       " '/lifetime/start_dates']"
      ]
     },
     "execution_count": 23,
     "metadata": {},
     "output_type": "execute_result"
    }
   ],
   "source": [
    "store2.keys()"
   ]
  },
  {
   "cell_type": "code",
   "execution_count": 24,
   "metadata": {},
   "outputs": [
    {
     "data": {
      "text/html": [
       "<div>\n",
       "<style scoped>\n",
       "    .dataframe tbody tr th:only-of-type {\n",
       "        vertical-align: middle;\n",
       "    }\n",
       "\n",
       "    .dataframe tbody tr th {\n",
       "        vertical-align: top;\n",
       "    }\n",
       "\n",
       "    .dataframe thead th {\n",
       "        text-align: right;\n",
       "    }\n",
       "</style>\n",
       "<table border=\"1\" class=\"dataframe\">\n",
       "  <thead>\n",
       "    <tr style=\"text-align: right;\">\n",
       "      <th></th>\n",
       "      <th>0</th>\n",
       "      <th>1</th>\n",
       "      <th>2</th>\n",
       "      <th>3</th>\n",
       "      <th>4</th>\n",
       "      <th>5</th>\n",
       "      <th>6</th>\n",
       "      <th>7</th>\n",
       "      <th>8</th>\n",
       "    </tr>\n",
       "    <tr>\n",
       "      <th>date</th>\n",
       "      <th></th>\n",
       "      <th></th>\n",
       "      <th></th>\n",
       "      <th></th>\n",
       "      <th></th>\n",
       "      <th></th>\n",
       "      <th></th>\n",
       "      <th></th>\n",
       "      <th></th>\n",
       "    </tr>\n",
       "  </thead>\n",
       "  <tbody>\n",
       "    <tr>\n",
       "      <th>2018-03-12 00:00:00+00:00</th>\n",
       "      <td>23.30</td>\n",
       "      <td>18.55</td>\n",
       "      <td>33.86</td>\n",
       "      <td>88.35</td>\n",
       "      <td>75.84</td>\n",
       "      <td>123.25</td>\n",
       "      <td>97.28</td>\n",
       "      <td>28.13</td>\n",
       "      <td>1.55</td>\n",
       "    </tr>\n",
       "    <tr>\n",
       "      <th>2018-03-13 00:00:00+00:00</th>\n",
       "      <td>22.95</td>\n",
       "      <td>18.85</td>\n",
       "      <td>34.23</td>\n",
       "      <td>87.95</td>\n",
       "      <td>76.01</td>\n",
       "      <td>123.56</td>\n",
       "      <td>98.00</td>\n",
       "      <td>27.65</td>\n",
       "      <td>1.55</td>\n",
       "    </tr>\n",
       "    <tr>\n",
       "      <th>2018-03-14 00:00:00+00:00</th>\n",
       "      <td>23.50</td>\n",
       "      <td>18.55</td>\n",
       "      <td>34.35</td>\n",
       "      <td>88.13</td>\n",
       "      <td>76.13</td>\n",
       "      <td>123.65</td>\n",
       "      <td>98.52</td>\n",
       "      <td>27.70</td>\n",
       "      <td>1.50</td>\n",
       "    </tr>\n",
       "    <tr>\n",
       "      <th>2018-03-15 00:00:00+00:00</th>\n",
       "      <td>23.00</td>\n",
       "      <td>18.35</td>\n",
       "      <td>33.85</td>\n",
       "      <td>86.02</td>\n",
       "      <td>76.40</td>\n",
       "      <td>123.20</td>\n",
       "      <td>97.48</td>\n",
       "      <td>27.12</td>\n",
       "      <td>1.33</td>\n",
       "    </tr>\n",
       "    <tr>\n",
       "      <th>2018-03-16 00:00:00+00:00</th>\n",
       "      <td>23.05</td>\n",
       "      <td>18.00</td>\n",
       "      <td>33.61</td>\n",
       "      <td>85.37</td>\n",
       "      <td>76.18</td>\n",
       "      <td>117.55</td>\n",
       "      <td>98.49</td>\n",
       "      <td>26.31</td>\n",
       "      <td>1.29</td>\n",
       "    </tr>\n",
       "    <tr>\n",
       "      <th>2018-03-19 00:00:00+00:00</th>\n",
       "      <td>22.90</td>\n",
       "      <td>18.30</td>\n",
       "      <td>33.98</td>\n",
       "      <td>85.64</td>\n",
       "      <td>76.80</td>\n",
       "      <td>117.53</td>\n",
       "      <td>97.76</td>\n",
       "      <td>25.86</td>\n",
       "      <td>1.37</td>\n",
       "    </tr>\n",
       "    <tr>\n",
       "      <th>2018-03-20 00:00:00+00:00</th>\n",
       "      <td>23.10</td>\n",
       "      <td>18.10</td>\n",
       "      <td>34.10</td>\n",
       "      <td>86.77</td>\n",
       "      <td>77.54</td>\n",
       "      <td>117.87</td>\n",
       "      <td>97.67</td>\n",
       "      <td>25.69</td>\n",
       "      <td>1.33</td>\n",
       "    </tr>\n",
       "    <tr>\n",
       "      <th>2018-03-21 00:00:00+00:00</th>\n",
       "      <td>23.15</td>\n",
       "      <td>18.20</td>\n",
       "      <td>33.62</td>\n",
       "      <td>86.31</td>\n",
       "      <td>77.69</td>\n",
       "      <td>118.68</td>\n",
       "      <td>97.91</td>\n",
       "      <td>25.07</td>\n",
       "      <td>1.39</td>\n",
       "    </tr>\n",
       "    <tr>\n",
       "      <th>2018-03-22 00:00:00+00:00</th>\n",
       "      <td>23.35</td>\n",
       "      <td>17.95</td>\n",
       "      <td>33.53</td>\n",
       "      <td>85.90</td>\n",
       "      <td>77.83</td>\n",
       "      <td>118.75</td>\n",
       "      <td>97.29</td>\n",
       "      <td>24.89</td>\n",
       "      <td>1.36</td>\n",
       "    </tr>\n",
       "    <tr>\n",
       "      <th>2018-03-23 00:00:00+00:00</th>\n",
       "      <td>22.70</td>\n",
       "      <td>17.85</td>\n",
       "      <td>33.19</td>\n",
       "      <td>83.48</td>\n",
       "      <td>77.19</td>\n",
       "      <td>117.80</td>\n",
       "      <td>95.59</td>\n",
       "      <td>24.68</td>\n",
       "      <td>1.38</td>\n",
       "    </tr>\n",
       "    <tr>\n",
       "      <th>2018-03-26 00:00:00+00:00</th>\n",
       "      <td>22.25</td>\n",
       "      <td>17.95</td>\n",
       "      <td>32.46</td>\n",
       "      <td>83.32</td>\n",
       "      <td>75.14</td>\n",
       "      <td>117.86</td>\n",
       "      <td>94.62</td>\n",
       "      <td>24.67</td>\n",
       "      <td>1.33</td>\n",
       "    </tr>\n",
       "    <tr>\n",
       "      <th>2018-03-27 00:00:00+00:00</th>\n",
       "      <td>22.75</td>\n",
       "      <td>18.10</td>\n",
       "      <td>33.06</td>\n",
       "      <td>84.19</td>\n",
       "      <td>77.49</td>\n",
       "      <td>117.76</td>\n",
       "      <td>97.00</td>\n",
       "      <td>24.79</td>\n",
       "      <td>1.25</td>\n",
       "    </tr>\n",
       "  </tbody>\n",
       "</table>\n",
       "</div>"
      ],
      "text/plain": [
       "                               0      1      2      3      4       5      6  \\\n",
       "date                                                                          \n",
       "2018-03-12 00:00:00+00:00  23.30  18.55  33.86  88.35  75.84  123.25  97.28   \n",
       "2018-03-13 00:00:00+00:00  22.95  18.85  34.23  87.95  76.01  123.56  98.00   \n",
       "2018-03-14 00:00:00+00:00  23.50  18.55  34.35  88.13  76.13  123.65  98.52   \n",
       "2018-03-15 00:00:00+00:00  23.00  18.35  33.85  86.02  76.40  123.20  97.48   \n",
       "2018-03-16 00:00:00+00:00  23.05  18.00  33.61  85.37  76.18  117.55  98.49   \n",
       "2018-03-19 00:00:00+00:00  22.90  18.30  33.98  85.64  76.80  117.53  97.76   \n",
       "2018-03-20 00:00:00+00:00  23.10  18.10  34.10  86.77  77.54  117.87  97.67   \n",
       "2018-03-21 00:00:00+00:00  23.15  18.20  33.62  86.31  77.69  118.68  97.91   \n",
       "2018-03-22 00:00:00+00:00  23.35  17.95  33.53  85.90  77.83  118.75  97.29   \n",
       "2018-03-23 00:00:00+00:00  22.70  17.85  33.19  83.48  77.19  117.80  95.59   \n",
       "2018-03-26 00:00:00+00:00  22.25  17.95  32.46  83.32  75.14  117.86  94.62   \n",
       "2018-03-27 00:00:00+00:00  22.75  18.10  33.06  84.19  77.49  117.76  97.00   \n",
       "\n",
       "                               7     8  \n",
       "date                                    \n",
       "2018-03-12 00:00:00+00:00  28.13  1.55  \n",
       "2018-03-13 00:00:00+00:00  27.65  1.55  \n",
       "2018-03-14 00:00:00+00:00  27.70  1.50  \n",
       "2018-03-15 00:00:00+00:00  27.12  1.33  \n",
       "2018-03-16 00:00:00+00:00  26.31  1.29  \n",
       "2018-03-19 00:00:00+00:00  25.86  1.37  \n",
       "2018-03-20 00:00:00+00:00  25.69  1.33  \n",
       "2018-03-21 00:00:00+00:00  25.07  1.39  \n",
       "2018-03-22 00:00:00+00:00  24.89  1.36  \n",
       "2018-03-23 00:00:00+00:00  24.68  1.38  \n",
       "2018-03-26 00:00:00+00:00  24.67  1.33  \n",
       "2018-03-27 00:00:00+00:00  24.79  1.25  "
      ]
     },
     "execution_count": 24,
     "metadata": {},
     "output_type": "execute_result"
    }
   ],
   "source": [
    "store2['/data/open']\n",
    "    "
   ]
  },
  {
   "cell_type": "code",
   "execution_count": 35,
   "metadata": {},
   "outputs": [],
   "source": [
    "sids=store2['/index/sids']\n",
    "symbols=store2['/index/symbols']"
   ]
  },
  {
   "cell_type": "code",
   "execution_count": 44,
   "metadata": {},
   "outputs": [],
   "source": [
    "            equities=pd.DataFrame( {'sid':sids,       \n",
    "                                    'start_date':start_date[0],\n",
    "                                    'end_date':end_date[0],\n",
    "                                    'symbol':symbols})"
   ]
  },
  {
   "cell_type": "code",
   "execution_count": 45,
   "metadata": {},
   "outputs": [],
   "source": [
    "store2['equities']=equities"
   ]
  },
  {
   "cell_type": "code",
   "execution_count": 36,
   "metadata": {},
   "outputs": [],
   "source": [
    "start_date=store2['/lifetime/start_dates'][0]"
   ]
  },
  {
   "cell_type": "code",
   "execution_count": 47,
   "metadata": {},
   "outputs": [],
   "source": [
    "store2.remove('/lifetime')"
   ]
  },
  {
   "cell_type": "code",
   "execution_count": 38,
   "metadata": {},
   "outputs": [],
   "source": [
    "end_date=store2['/lifetime/end_dates'][0]"
   ]
  },
  {
   "cell_type": "code",
   "execution_count": 48,
   "metadata": {},
   "outputs": [
    {
     "data": {
      "text/plain": [
       "['/dtypes',\n",
       " '/equities',\n",
       " '/data/close',\n",
       " '/data/open',\n",
       " '/index/dates',\n",
       " '/index/sids',\n",
       " '/index/symbols']"
      ]
     },
     "execution_count": 48,
     "metadata": {},
     "output_type": "execute_result"
    }
   ],
   "source": [
    "store2.keys()"
   ]
  },
  {
   "cell_type": "code",
   "execution_count": 49,
   "metadata": {},
   "outputs": [],
   "source": [
    "store2.close()"
   ]
  },
  {
   "cell_type": "code",
   "execution_count": null,
   "metadata": {},
   "outputs": [],
   "source": [
    "store.close()"
   ]
  },
  {
   "cell_type": "code",
   "execution_count": null,
   "metadata": {},
   "outputs": [],
   "source": [
    "%%timeit\n",
    "keys=store.keys()\n",
    "[ k  for k in ['close','open'] if \"/\"+k in keys]"
   ]
  },
  {
   "cell_type": "code",
   "execution_count": null,
   "metadata": {},
   "outputs": [],
   "source": [
    " np.unique(np.arange(10), return_index=True)"
   ]
  },
  {
   "cell_type": "code",
   "execution_count": null,
   "metadata": {},
   "outputs": [],
   "source": [
    "is_null_matrix = np.logical_and.reduce(\n",
    "        [df[field].unstack().isnull().values for field in df],\n",
    "    )"
   ]
  },
  {
   "cell_type": "code",
   "execution_count": null,
   "metadata": {},
   "outputs": [],
   "source": [
    "def func(x)\n",
    "    arr=x.isnull()\n",
    "    start=arr.idxmin()\n"
   ]
  },
  {
   "cell_type": "code",
   "execution_count": null,
   "metadata": {},
   "outputs": [],
   "source": [
    "store.info"
   ]
  },
  {
   "cell_type": "code",
   "execution_count": null,
   "metadata": {},
   "outputs": [],
   "source": [
    "pd.date_range( '2018-03-12','2018-03-27', freq='C',    tz='UTC')"
   ]
  },
  {
   "cell_type": "code",
   "execution_count": null,
   "metadata": {},
   "outputs": [],
   "source": [
    "        def find_start_end(x):\n",
    "            x_na=x.isnull()\n",
    "            return x_na.idxmin(), x_na[::-1].idxmin()"
   ]
  },
  {
   "cell_type": "code",
   "execution_count": null,
   "metadata": {},
   "outputs": [],
   "source": [
    "v=x.unstack().apply(lambda x:x.isnull().idxmin())"
   ]
  },
  {
   "cell_type": "code",
   "execution_count": null,
   "metadata": {},
   "outputs": [],
   "source": [
    "v"
   ]
  },
  {
   "cell_type": "code",
   "execution_count": null,
   "metadata": {},
   "outputs": [],
   "source": [
    "xx=np.vstack([v,v])"
   ]
  },
  {
   "cell_type": "code",
   "execution_count": null,
   "metadata": {},
   "outputs": [],
   "source": [
    "xx."
   ]
  },
  {
   "cell_type": "code",
   "execution_count": null,
   "metadata": {},
   "outputs": [],
   "source": [
    "np.amin(xx, axis=0)"
   ]
  },
  {
   "cell_type": "code",
   "execution_count": null,
   "metadata": {},
   "outputs": [],
   "source": [
    "arr=None"
   ]
  },
  {
   "cell_type": "code",
   "execution_count": null,
   "metadata": {},
   "outputs": [],
   "source": [
    "for i in range(10):\n",
    "    arr=np.vstack([arr, v])"
   ]
  },
  {
   "cell_type": "code",
   "execution_count": null,
   "metadata": {},
   "outputs": [],
   "source": [
    "pd.Timestamp('1962-01-02')"
   ]
  },
  {
   "cell_type": "code",
   "execution_count": null,
   "metadata": {},
   "outputs": [],
   "source": [
    "\n",
    "\n"
   ]
  },
  {
   "cell_type": "code",
   "execution_count": null,
   "metadata": {},
   "outputs": [],
   "source": []
  }
 ],
 "metadata": {
  "kernelspec": {
   "display_name": "Python 3",
   "language": "python",
   "name": "python3"
  },
  "language_info": {
   "codemirror_mode": {
    "name": "ipython",
    "version": 3
   },
   "file_extension": ".py",
   "mimetype": "text/x-python",
   "name": "python",
   "nbconvert_exporter": "python",
   "pygments_lexer": "ipython3",
   "version": "3.5.6"
  }
 },
 "nbformat": 4,
 "nbformat_minor": 4
}
